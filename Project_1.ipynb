{
 "cells": [
  {
   "cell_type": "markdown",
   "id": "8622c0eb",
   "metadata": {},
   "source": [
    "### Importing data using Pandas "
   ]
  },
  {
   "cell_type": "code",
   "execution_count": 351,
   "id": "6b3b0b03",
   "metadata": {},
   "outputs": [],
   "source": [
    "import pandas as pd\n",
    "import numpy as np "
   ]
  },
  {
   "cell_type": "code",
   "execution_count": 352,
   "id": "fc18ad70",
   "metadata": {},
   "outputs": [],
   "source": [
    "Usage = pd.read_csv(\"Usage2.csv\")\n"
   ]
  },
  {
   "cell_type": "code",
   "execution_count": 353,
   "id": "884e1d06",
   "metadata": {},
   "outputs": [],
   "source": [
    "complaint = pd.read_csv('complaint.csv')"
   ]
  },
  {
   "cell_type": "markdown",
   "id": "c9e5e632",
   "metadata": {},
   "source": [
    "### Making a data frame for two individual Excell sheet "
   ]
  },
  {
   "cell_type": "code",
   "execution_count": 354,
   "id": "a3db840f",
   "metadata": {},
   "outputs": [
    {
     "data": {
      "text/html": [
       "<div>\n",
       "<style scoped>\n",
       "    .dataframe tbody tr th:only-of-type {\n",
       "        vertical-align: middle;\n",
       "    }\n",
       "\n",
       "    .dataframe tbody tr th {\n",
       "        vertical-align: top;\n",
       "    }\n",
       "\n",
       "    .dataframe thead th {\n",
       "        text-align: right;\n",
       "    }\n",
       "</style>\n",
       "<table border=\"1\" class=\"dataframe\">\n",
       "  <thead>\n",
       "    <tr style=\"text-align: right;\">\n",
       "      <th></th>\n",
       "      <th>CSN</th>\n",
       "      <th>Device</th>\n",
       "      <th>Location</th>\n",
       "      <th>Symptom</th>\n",
       "      <th>Duration</th>\n",
       "      <th>Date</th>\n",
       "    </tr>\n",
       "  </thead>\n",
       "  <tbody>\n",
       "    <tr>\n",
       "      <th>0</th>\n",
       "      <td>C-221-82070</td>\n",
       "      <td>C</td>\n",
       "      <td>D</td>\n",
       "      <td>DI</td>\n",
       "      <td>0.03</td>\n",
       "      <td>11/4/21</td>\n",
       "    </tr>\n",
       "    <tr>\n",
       "      <th>1</th>\n",
       "      <td>C-221-65822</td>\n",
       "      <td>C</td>\n",
       "      <td>U</td>\n",
       "      <td>LP</td>\n",
       "      <td>0.10</td>\n",
       "      <td>1/19/21</td>\n",
       "    </tr>\n",
       "    <tr>\n",
       "      <th>2</th>\n",
       "      <td>C-221-22846</td>\n",
       "      <td>C</td>\n",
       "      <td>D</td>\n",
       "      <td>BL</td>\n",
       "      <td>0.42</td>\n",
       "      <td>3/25/21</td>\n",
       "    </tr>\n",
       "    <tr>\n",
       "      <th>3</th>\n",
       "      <td>C-221-77792</td>\n",
       "      <td>C</td>\n",
       "      <td>U</td>\n",
       "      <td>PS</td>\n",
       "      <td>17.29</td>\n",
       "      <td>2/25/21</td>\n",
       "    </tr>\n",
       "    <tr>\n",
       "      <th>4</th>\n",
       "      <td>C-221-6632</td>\n",
       "      <td>C</td>\n",
       "      <td>U</td>\n",
       "      <td>HM</td>\n",
       "      <td>5.32</td>\n",
       "      <td>8/10/21</td>\n",
       "    </tr>\n",
       "  </tbody>\n",
       "</table>\n",
       "</div>"
      ],
      "text/plain": [
       "           CSN Device Location Symptom  Duration     Date\n",
       "0  C-221-82070      C        D      DI      0.03  11/4/21\n",
       "1  C-221-65822      C        U      LP      0.10  1/19/21\n",
       "2  C-221-22846      C        D      BL      0.42  3/25/21\n",
       "3  C-221-77792      C        U      PS     17.29  2/25/21\n",
       "4   C-221-6632      C        U      HM      5.32  8/10/21"
      ]
     },
     "execution_count": 354,
     "metadata": {},
     "output_type": "execute_result"
    }
   ],
   "source": [
    "complaint.head()"
   ]
  },
  {
   "cell_type": "code",
   "execution_count": 355,
   "id": "0e99e411",
   "metadata": {},
   "outputs": [
    {
     "data": {
      "text/html": [
       "<div>\n",
       "<style scoped>\n",
       "    .dataframe tbody tr th:only-of-type {\n",
       "        vertical-align: middle;\n",
       "    }\n",
       "\n",
       "    .dataframe tbody tr th {\n",
       "        vertical-align: top;\n",
       "    }\n",
       "\n",
       "    .dataframe thead th {\n",
       "        text-align: right;\n",
       "    }\n",
       "</style>\n",
       "<table border=\"1\" class=\"dataframe\">\n",
       "  <thead>\n",
       "    <tr style=\"text-align: right;\">\n",
       "      <th></th>\n",
       "      <th>USN</th>\n",
       "      <th>Date</th>\n",
       "      <th>Device</th>\n",
       "      <th>Duration</th>\n",
       "      <th>Location</th>\n",
       "    </tr>\n",
       "  </thead>\n",
       "  <tbody>\n",
       "    <tr>\n",
       "      <th>0</th>\n",
       "      <td>1385441</td>\n",
       "      <td>1/1/21</td>\n",
       "      <td>C</td>\n",
       "      <td>1.82</td>\n",
       "      <td>U</td>\n",
       "    </tr>\n",
       "    <tr>\n",
       "      <th>1</th>\n",
       "      <td>1385442</td>\n",
       "      <td>1/1/21</td>\n",
       "      <td>C</td>\n",
       "      <td>8.68</td>\n",
       "      <td>U</td>\n",
       "    </tr>\n",
       "    <tr>\n",
       "      <th>2</th>\n",
       "      <td>1385443</td>\n",
       "      <td>1/1/21</td>\n",
       "      <td>C</td>\n",
       "      <td>2.59</td>\n",
       "      <td>U</td>\n",
       "    </tr>\n",
       "    <tr>\n",
       "      <th>3</th>\n",
       "      <td>1385444</td>\n",
       "      <td>1/1/21</td>\n",
       "      <td>C</td>\n",
       "      <td>0.08</td>\n",
       "      <td>O</td>\n",
       "    </tr>\n",
       "    <tr>\n",
       "      <th>4</th>\n",
       "      <td>1385445</td>\n",
       "      <td>1/1/21</td>\n",
       "      <td>C</td>\n",
       "      <td>5.45</td>\n",
       "      <td>U</td>\n",
       "    </tr>\n",
       "  </tbody>\n",
       "</table>\n",
       "</div>"
      ],
      "text/plain": [
       "       USN    Date Device  Duration Location\n",
       "0  1385441  1/1/21      C      1.82        U\n",
       "1  1385442  1/1/21      C      8.68        U\n",
       "2  1385443  1/1/21      C      2.59        U\n",
       "3  1385444  1/1/21      C      0.08        O\n",
       "4  1385445  1/1/21      C      5.45        U"
      ]
     },
     "execution_count": 355,
     "metadata": {},
     "output_type": "execute_result"
    }
   ],
   "source": [
    "# using head function that will show first few rows of data frame\n",
    "Usage.head()"
   ]
  },
  {
   "cell_type": "markdown",
   "id": "0211f294",
   "metadata": {},
   "source": [
    "## 1.Preprocessing/ Cleaning Data "
   ]
  },
  {
   "cell_type": "markdown",
   "id": "7dd05e9f",
   "metadata": {},
   "source": [
    "Apart from Duration coulmn any other feild must no have any empty feild must not have any missing data."
   ]
  },
  {
   "cell_type": "code",
   "execution_count": 369,
   "id": "7a41bb92",
   "metadata": {},
   "outputs": [],
   "source": [
    "# using dropna function to drop the rows with empty cells from column 'CSN','Device','Location','Symptom','Date'\n",
    "complaint=complaint.dropna(axis = 'index',how = 'any', subset = ['CSN','Device','Location','Symptom','Date'])\n"
   ]
  },
  {
   "cell_type": "code",
   "execution_count": 368,
   "id": "fa91c9af",
   "metadata": {},
   "outputs": [],
   "source": [
    "# using dropna function to drop the rows with empty cells from column 'CSN','Device','Location','Symptom','Date'\n",
    "Usage=Usage.dropna(axis = 'index',how = 'any', subset = ['USN','Date','Device','Date'])"
   ]
  },
  {
   "cell_type": "markdown",
   "id": "bfc89bff",
   "metadata": {},
   "source": [
    "#### a). USN uniquely identifies a Usage. It must be a numeric 7-digit value. So, There are some feild with some extra charecter in the end(after the seven digit id). There is no point of removing the whole row because of that. That's why I made a function that can romove that last extra charecter from that feild."
   ]
  },
  {
   "cell_type": "code",
   "execution_count": 358,
   "id": "9e5e20de",
   "metadata": {},
   "outputs": [
    {
     "name": "stdout",
     "output_type": "stream",
     "text": [
      "USN         1385537\n",
      "Date         1/5/21\n",
      "Device            O\n",
      "Duration       0.87\n",
      "Location          U\n",
      "Name: 96, dtype: object\n"
     ]
    }
   ],
   "source": [
    "# using function that will remove the any elemets after first 7 element to organize the correct USN\n",
    "def clean_col(s):\n",
    "  return s[:7]\n",
    "Usage['USN']=Usage['USN'].apply(clean_col)\n",
    "# print to verify wether the fuction works correctly or not before this fuction the value of USN:1385537A\n",
    "print(Usage.iloc[96])"
   ]
  },
  {
   "cell_type": "markdown",
   "id": "f9e4ee7e",
   "metadata": {},
   "source": [
    "## 2) Exploratory analysis"
   ]
  },
  {
   "cell_type": "markdown",
   "id": "00e541e7",
   "metadata": {},
   "source": [
    "### a) Shape of data set "
   ]
  },
  {
   "cell_type": "code",
   "execution_count": 359,
   "id": "a5c5ff0b",
   "metadata": {},
   "outputs": [
    {
     "data": {
      "text/plain": [
       "(13691, 5)"
      ]
     },
     "execution_count": 359,
     "metadata": {},
     "output_type": "execute_result"
    }
   ],
   "source": [
    "# AS we can see after the cleaning there are 15688 rows for 5 columns (Usage)\n",
    "Usage.shape"
   ]
  },
  {
   "cell_type": "code",
   "execution_count": 360,
   "id": "774c6087",
   "metadata": {},
   "outputs": [
    {
     "data": {
      "text/plain": [
       "(978, 6)"
      ]
     },
     "execution_count": 360,
     "metadata": {},
     "output_type": "execute_result"
    }
   ],
   "source": [
    "# AS we can see after the cleaning there are 979 rows for 6 columns (Complaint)\n",
    "complaint.shape"
   ]
  },
  {
   "cell_type": "code",
   "execution_count": 361,
   "id": "7bc051f9",
   "metadata": {},
   "outputs": [
    {
     "data": {
      "text/html": [
       "<div>\n",
       "<style scoped>\n",
       "    .dataframe tbody tr th:only-of-type {\n",
       "        vertical-align: middle;\n",
       "    }\n",
       "\n",
       "    .dataframe tbody tr th {\n",
       "        vertical-align: top;\n",
       "    }\n",
       "\n",
       "    .dataframe thead th {\n",
       "        text-align: right;\n",
       "    }\n",
       "</style>\n",
       "<table border=\"1\" class=\"dataframe\">\n",
       "  <thead>\n",
       "    <tr style=\"text-align: right;\">\n",
       "      <th></th>\n",
       "      <th>Duration</th>\n",
       "    </tr>\n",
       "  </thead>\n",
       "  <tbody>\n",
       "    <tr>\n",
       "      <th>count</th>\n",
       "      <td>13691.000000</td>\n",
       "    </tr>\n",
       "    <tr>\n",
       "      <th>mean</th>\n",
       "      <td>12.720420</td>\n",
       "    </tr>\n",
       "    <tr>\n",
       "      <th>std</th>\n",
       "      <td>56.120855</td>\n",
       "    </tr>\n",
       "    <tr>\n",
       "      <th>min</th>\n",
       "      <td>-6.880000</td>\n",
       "    </tr>\n",
       "    <tr>\n",
       "      <th>25%</th>\n",
       "      <td>0.080000</td>\n",
       "    </tr>\n",
       "    <tr>\n",
       "      <th>50%</th>\n",
       "      <td>0.230000</td>\n",
       "    </tr>\n",
       "    <tr>\n",
       "      <th>75%</th>\n",
       "      <td>2.940000</td>\n",
       "    </tr>\n",
       "    <tr>\n",
       "      <th>max</th>\n",
       "      <td>428.480000</td>\n",
       "    </tr>\n",
       "  </tbody>\n",
       "</table>\n",
       "</div>"
      ],
      "text/plain": [
       "           Duration\n",
       "count  13691.000000\n",
       "mean      12.720420\n",
       "std       56.120855\n",
       "min       -6.880000\n",
       "25%        0.080000\n",
       "50%        0.230000\n",
       "75%        2.940000\n",
       "max      428.480000"
      ]
     },
     "execution_count": 361,
     "metadata": {},
     "output_type": "execute_result"
    }
   ],
   "source": [
    "Usage.describe()"
   ]
  },
  {
   "cell_type": "code",
   "execution_count": 362,
   "id": "5c5dfe56",
   "metadata": {},
   "outputs": [
    {
     "data": {
      "text/html": [
       "<div>\n",
       "<style scoped>\n",
       "    .dataframe tbody tr th:only-of-type {\n",
       "        vertical-align: middle;\n",
       "    }\n",
       "\n",
       "    .dataframe tbody tr th {\n",
       "        vertical-align: top;\n",
       "    }\n",
       "\n",
       "    .dataframe thead th {\n",
       "        text-align: right;\n",
       "    }\n",
       "</style>\n",
       "<table border=\"1\" class=\"dataframe\">\n",
       "  <thead>\n",
       "    <tr style=\"text-align: right;\">\n",
       "      <th></th>\n",
       "      <th>Duration</th>\n",
       "    </tr>\n",
       "  </thead>\n",
       "  <tbody>\n",
       "    <tr>\n",
       "      <th>count</th>\n",
       "      <td>973.000000</td>\n",
       "    </tr>\n",
       "    <tr>\n",
       "      <th>mean</th>\n",
       "      <td>15.238746</td>\n",
       "    </tr>\n",
       "    <tr>\n",
       "      <th>std</th>\n",
       "      <td>59.279659</td>\n",
       "    </tr>\n",
       "    <tr>\n",
       "      <th>min</th>\n",
       "      <td>-0.020000</td>\n",
       "    </tr>\n",
       "    <tr>\n",
       "      <th>25%</th>\n",
       "      <td>0.080000</td>\n",
       "    </tr>\n",
       "    <tr>\n",
       "      <th>50%</th>\n",
       "      <td>1.310000</td>\n",
       "    </tr>\n",
       "    <tr>\n",
       "      <th>75%</th>\n",
       "      <td>6.730000</td>\n",
       "    </tr>\n",
       "    <tr>\n",
       "      <th>max</th>\n",
       "      <td>419.630000</td>\n",
       "    </tr>\n",
       "  </tbody>\n",
       "</table>\n",
       "</div>"
      ],
      "text/plain": [
       "         Duration\n",
       "count  973.000000\n",
       "mean    15.238746\n",
       "std     59.279659\n",
       "min     -0.020000\n",
       "25%      0.080000\n",
       "50%      1.310000\n",
       "75%      6.730000\n",
       "max    419.630000"
      ]
     },
     "execution_count": 362,
     "metadata": {},
     "output_type": "execute_result"
    }
   ],
   "source": [
    "complaint.describe()"
   ]
  },
  {
   "cell_type": "markdown",
   "id": "f902fd8a",
   "metadata": {},
   "source": [
    "### Data types for each variable"
   ]
  },
  {
   "cell_type": "code",
   "execution_count": 370,
   "id": "5435eaa3",
   "metadata": {},
   "outputs": [
    {
     "data": {
      "text/plain": [
       "USN          object\n",
       "Date         object\n",
       "Device       object\n",
       "Duration    float64\n",
       "Location     object\n",
       "dtype: object"
      ]
     },
     "execution_count": 370,
     "metadata": {},
     "output_type": "execute_result"
    }
   ],
   "source": [
    "# AS we can see apart from Duration which has float values other Variables are classified as object\n",
    "Usage.dtypes"
   ]
  },
  {
   "cell_type": "code",
   "execution_count": 371,
   "id": "3aa3e636",
   "metadata": {},
   "outputs": [
    {
     "data": {
      "text/plain": [
       "CSN          object\n",
       "Device       object\n",
       "Location     object\n",
       "Symptom      object\n",
       "Duration    float64\n",
       "Date         object\n",
       "dtype: object"
      ]
     },
     "execution_count": 371,
     "metadata": {},
     "output_type": "execute_result"
    }
   ],
   "source": [
    "# ## AS we can see apart from Duration which has float values other Variables are classified as object\n",
    "complaint.dtypes"
   ]
  },
  {
   "cell_type": "markdown",
   "id": "c808545c",
   "metadata": {},
   "source": [
    "### b). Number of Usages by Device and Location?"
   ]
  },
  {
   "cell_type": "code",
   "execution_count": 372,
   "id": "3add1546",
   "metadata": {},
   "outputs": [],
   "source": [
    "# importing matplotlib and seaborn Libraries for visualization \n",
    "import matplotlib.pyplot as plt\n",
    "import seaborn as sns"
   ]
  },
  {
   "cell_type": "markdown",
   "id": "c650808d",
   "metadata": {},
   "source": [
    "#### The output bellow represent the Frequency of each device from usage data set"
   ]
  },
  {
   "cell_type": "code",
   "execution_count": 373,
   "id": "b676f125",
   "metadata": {},
   "outputs": [
    {
     "data": {
      "text/plain": [
       "C    9910\n",
       "T    2656\n",
       "O     635\n",
       "F     490\n",
       "Name: Device, dtype: int64"
      ]
     },
     "execution_count": 373,
     "metadata": {},
     "output_type": "execute_result"
    }
   ],
   "source": [
    "# getting the count of each data types\n",
    "Usage['Device'].value_counts() "
   ]
  },
  {
   "cell_type": "markdown",
   "id": "28806e4f",
   "metadata": {},
   "source": [
    "### The graph below represents the number of device Usage for each location."
   ]
  },
  {
   "cell_type": "code",
   "execution_count": 534,
   "id": "e8704bd1",
   "metadata": {},
   "outputs": [],
   "source": [
    "# this function will anote the number for each bar showing it's number on top of the bar\n",
    "def anote(plot):\n",
    "    for bar in plot.patches:\n",
    "        plot.annotate(format(bar.get_height(), '.2f'),\n",
    "                           (bar.get_x() + bar.get_width() / 2,\n",
    "                            bar.get_height()), ha='center', va='center',\n",
    "                           size=8, xytext=(0, 8),\n",
    "                           textcoords='offset points')"
   ]
  },
  {
   "cell_type": "code",
   "execution_count": 682,
   "id": "f0e39947",
   "metadata": {},
   "outputs": [
    {
     "name": "stderr",
     "output_type": "stream",
     "text": [
      "/opt/anaconda3/lib/python3.8/site-packages/seaborn/_decorators.py:36: FutureWarning: Pass the following variable as a keyword arg: x. From version 0.12, the only valid positional argument will be `data`, and passing other arguments without an explicit keyword will result in an error or misinterpretation.\n",
      "  warnings.warn(\n"
     ]
    },
    {
     "data": {
      "text/plain": [
       "Text(0.5, 1.0, 'Number of Usage')"
      ]
     },
     "execution_count": 682,
     "metadata": {},
     "output_type": "execute_result"
    },
    {
     "data": {
      "image/png": "[encoded data removed]",
      "text/plain": [
       "<Figure size 720x360 with 1 Axes>"
      ]
     },
     "metadata": {},
     "output_type": "display_data"
    }
   ],
   "source": [
    "# using subplot to adjust the size of graph\n",
    "fig, ax = plt.subplots(figsize=(10, 5))\n",
    "plot=sns.countplot('Device',hue='Location',data=Usage,ax=ax)\n",
    "# function that will annotate each bar with the value it raches in the graph\n",
    "anote(plot)\n",
    "# adjust the Location legend\n",
    "plt.legend(loc='upper right')\n",
    "plt.title('Number of Usage')"
   ]
  },
  {
   "cell_type": "code",
   "execution_count": 683,
   "id": "fabdb5cc",
   "metadata": {},
   "outputs": [
    {
     "name": "stderr",
     "output_type": "stream",
     "text": [
      "/opt/anaconda3/lib/python3.8/site-packages/seaborn/_decorators.py:36: FutureWarning: Pass the following variable as a keyword arg: x. From version 0.12, the only valid positional argument will be `data`, and passing other arguments without an explicit keyword will result in an error or misinterpretation.\n",
      "  warnings.warn(\n"
     ]
    },
    {
     "data": {
      "text/plain": [
       "Text(0.5, 1.0, 'Number of complain')"
      ]
     },
     "execution_count": 683,
     "metadata": {},
     "output_type": "execute_result"
    },
    {
     "data": {
      "image/png": "[encoded data removed]",
      "text/plain": [
       "<Figure size 720x360 with 1 Axes>"
      ]
     },
     "metadata": {},
     "output_type": "display_data"
    }
   ],
   "source": [
    "# the visulization here represents the number of complains for each device however it will not depict anything \n",
    "# about Symptoms\n",
    "fig, ax = plt.subplots(figsize=(10, 5))\n",
    "plot=sns.countplot('Device',hue='Location',data=complaint,ax=ax)\n",
    "anote(plot)\n",
    "plt.legend(loc='upper right')\n",
    "plt.title('Number of complain')"
   ]
  },
  {
   "cell_type": "code",
   "execution_count": 376,
   "id": "cf7ba32b",
   "metadata": {},
   "outputs": [
    {
     "data": {
      "text/plain": [
       "C    773\n",
       "T     78\n",
       "F     68\n",
       "O     59\n",
       "Name: Device, dtype: int64"
      ]
     },
     "execution_count": 376,
     "metadata": {},
     "output_type": "execute_result"
    }
   ],
   "source": [
    "# It defines the number of complins for each device\n",
    "complaint['Device'].value_counts()"
   ]
  },
  {
   "cell_type": "markdown",
   "id": "3f82a8fb",
   "metadata": {},
   "source": [
    "### c) Number of Complaints by Device, Location and Symptom."
   ]
  },
  {
   "cell_type": "markdown",
   "id": "42267a88",
   "metadata": {},
   "source": [
    "#### In order to include the symptoms I have to seprate the data set for each device and then apply bar plot for each symptom and location."
   ]
  },
  {
   "cell_type": "code",
   "execution_count": 377,
   "id": "3fb3ab71",
   "metadata": {},
   "outputs": [
    {
     "data": {
      "text/plain": [
       "0      True\n",
       "1      True\n",
       "2      True\n",
       "3      True\n",
       "4      True\n",
       "       ... \n",
       "973    True\n",
       "974    True\n",
       "975    True\n",
       "976    True\n",
       "977    True\n",
       "Name: Device, Length: 978, dtype: bool"
      ]
     },
     "execution_count": 377,
     "metadata": {},
     "output_type": "execute_result"
    }
   ],
   "source": [
    "# filltering the data for device 'C'\n",
    "complaint['Device']=='C' "
   ]
  },
  {
   "cell_type": "code",
   "execution_count": 378,
   "id": "a4f87ea6",
   "metadata": {},
   "outputs": [],
   "source": [
    "#This will fillter each data set accordint to the type of device and storing it into seprate data frame \n",
    "ComplaintC=complaint.loc[complaint['Device']=='C']\n",
    "ComplaintT=complaint.loc[complaint['Device']=='T']\n",
    "ComplaintF=complaint.loc[complaint['Device']=='F']\n",
    "ComplaintO=complaint.loc[complaint['Device']=='O']"
   ]
  },
  {
   "cell_type": "markdown",
   "id": "41fc7496",
   "metadata": {},
   "source": [
    "#### Using countplot to represent teh frequancy of complains for each device including perticular Symptom. Moreover each bar with different color shows the location."
   ]
  },
  {
   "cell_type": "code",
   "execution_count": 538,
   "id": "6ee54be4",
   "metadata": {},
   "outputs": [
    {
     "name": "stderr",
     "output_type": "stream",
     "text": [
      "/opt/anaconda3/lib/python3.8/site-packages/seaborn/_decorators.py:36: FutureWarning: Pass the following variable as a keyword arg: x. From version 0.12, the only valid positional argument will be `data`, and passing other arguments without an explicit keyword will result in an error or misinterpretation.\n",
      "  warnings.warn(\n",
      "/opt/anaconda3/lib/python3.8/site-packages/seaborn/_decorators.py:36: FutureWarning: Pass the following variable as a keyword arg: x. From version 0.12, the only valid positional argument will be `data`, and passing other arguments without an explicit keyword will result in an error or misinterpretation.\n",
      "  warnings.warn(\n",
      "/opt/anaconda3/lib/python3.8/site-packages/seaborn/_decorators.py:36: FutureWarning: Pass the following variable as a keyword arg: x. From version 0.12, the only valid positional argument will be `data`, and passing other arguments without an explicit keyword will result in an error or misinterpretation.\n",
      "  warnings.warn(\n",
      "/opt/anaconda3/lib/python3.8/site-packages/seaborn/_decorators.py:36: FutureWarning: Pass the following variable as a keyword arg: x. From version 0.12, the only valid positional argument will be `data`, and passing other arguments without an explicit keyword will result in an error or misinterpretation.\n",
      "  warnings.warn(\n"
     ]
    },
    {
     "data": {
      "text/plain": [
       "Text(0.5, 1.0, 'Device Type: O')"
      ]
     },
     "execution_count": 538,
     "metadata": {},
     "output_type": "execute_result"
    },
    {
     "data": {
      "image/png": "[encoded data removed]",
      "text/plain": [
       "<Figure size 720x360 with 1 Axes>"
      ]
     },
     "metadata": {
      "needs_background": "light"
     },
     "output_type": "display_data"
    },
    {
     "data": {
      "image/png": "[encoded data removed]",
      "text/plain": [
       "<Figure size 720x360 with 1 Axes>"
      ]
     },
     "metadata": {
      "needs_background": "light"
     },
     "output_type": "display_data"
    },
    {
     "data": {
      "image/png": "[encoded data removed]",
      "text/plain": [
       "<Figure size 720x360 with 1 Axes>"
      ]
     },
     "metadata": {
      "needs_background": "light"
     },
     "output_type": "display_data"
    },
    {
     "data": {
      "image/png": "[encoded data removed]",
      "text/plain": [
       "<Figure size 720x360 with 1 Axes>"
      ]
     },
     "metadata": {
      "needs_background": "light"
     },
     "output_type": "display_data"
    }
   ],
   "source": [
    "# Using subplot to septate each visulization\n",
    "fig, ax = plt.subplots(figsize=(10, 5))\n",
    "fig, ax1 = plt.subplots(figsize=(10, 5))\n",
    "fig, ax2 = plt.subplots(figsize=(10, 5))\n",
    "fig, ax3 = plt.subplots(figsize=(10, 5))\n",
    "# Using countplot to represent teh frequancy complains for each device regarding perticular Symptom\n",
    "# This will works for Device: C\n",
    "plot1=sns.countplot('Symptom',hue='Location',data=ComplaintC,ax=ax)\n",
    "anote(plot1)\n",
    "ax.legend(loc='upper right')\n",
    "ax.set_title('Device Type: C')\n",
    "# This will works for Device: T\n",
    "plot2=sns.countplot('Symptom',hue='Location',data=ComplaintT,ax=ax1)\n",
    "anote(plot2)\n",
    "ax1.legend(loc='upper right')\n",
    "ax1.set_title('Device Type: T')\n",
    "# This will works for Device: F\n",
    "plot3=sns.countplot('Symptom',hue='Location',data=ComplaintF,ax=ax2)\n",
    "anote(plot3)\n",
    "ax2.legend(loc='upper right')\n",
    "ax2.set_title('Device Type: F')\n",
    "# This will works for Device: O\n",
    "plot4=sns.countplot('Symptom',hue='Location',data=ComplaintO,ax=ax3)\n",
    "anote(plot4)\n",
    "ax3.legend(loc='upper right')\n",
    "ax3.set_title('Device Type: O')\n",
    "\n"
   ]
  },
  {
   "cell_type": "markdown",
   "id": "006ba9e4",
   "metadata": {},
   "source": [
    "#### here is Complain rate for foe whole data set for each device "
   ]
  },
  {
   "cell_type": "markdown",
   "id": "24e6c7f3",
   "metadata": {},
   "source": [
    "### Find Complaint rates Overall"
   ]
  },
  {
   "cell_type": "code",
   "execution_count": 381,
   "id": "79fa74f0",
   "metadata": {},
   "outputs": [
    {
     "name": "stdout",
     "output_type": "stream",
     "text": [
      "C    12.820181\n",
      "F     7.205882\n",
      "O    10.762712\n",
      "T    34.051282\n",
      "Name: Device, dtype: float64\n"
     ]
    }
   ],
   "source": [
    "Usagebydevice = []\n",
    "complaintbydevice = []\n",
    "Usagebydevice = Usage['Device'].value_counts()\n",
    "Complaintbydevice = complaint['Device'].value_counts()\n",
    "\n",
    "complaintret = []\n",
    "complaintret = Usagebydevice/Complaintbydevice\n",
    "\n",
    "print(complaintret)"
   ]
  },
  {
   "cell_type": "markdown",
   "id": "5bfd17bf",
   "metadata": {},
   "source": [
    "### In order to get the monthly complain rate first I need to get the month from date Column for both Usage and complain "
   ]
  },
  {
   "cell_type": "code",
   "execution_count": 382,
   "id": "13fd0e42",
   "metadata": {},
   "outputs": [
    {
     "data": {
      "text/html": [
       "<div>\n",
       "<style scoped>\n",
       "    .dataframe tbody tr th:only-of-type {\n",
       "        vertical-align: middle;\n",
       "    }\n",
       "\n",
       "    .dataframe tbody tr th {\n",
       "        vertical-align: top;\n",
       "    }\n",
       "\n",
       "    .dataframe thead th {\n",
       "        text-align: right;\n",
       "    }\n",
       "</style>\n",
       "<table border=\"1\" class=\"dataframe\">\n",
       "  <thead>\n",
       "    <tr style=\"text-align: right;\">\n",
       "      <th></th>\n",
       "      <th>USN</th>\n",
       "      <th>Date</th>\n",
       "      <th>Device</th>\n",
       "      <th>Duration</th>\n",
       "      <th>Location</th>\n",
       "      <th>Month</th>\n",
       "    </tr>\n",
       "  </thead>\n",
       "  <tbody>\n",
       "    <tr>\n",
       "      <th>0</th>\n",
       "      <td>1385441</td>\n",
       "      <td>1/1/21</td>\n",
       "      <td>C</td>\n",
       "      <td>1.82</td>\n",
       "      <td>U</td>\n",
       "      <td>1</td>\n",
       "    </tr>\n",
       "    <tr>\n",
       "      <th>1</th>\n",
       "      <td>1385442</td>\n",
       "      <td>1/1/21</td>\n",
       "      <td>C</td>\n",
       "      <td>8.68</td>\n",
       "      <td>U</td>\n",
       "      <td>1</td>\n",
       "    </tr>\n",
       "    <tr>\n",
       "      <th>2</th>\n",
       "      <td>1385443</td>\n",
       "      <td>1/1/21</td>\n",
       "      <td>C</td>\n",
       "      <td>2.59</td>\n",
       "      <td>U</td>\n",
       "      <td>1</td>\n",
       "    </tr>\n",
       "    <tr>\n",
       "      <th>3</th>\n",
       "      <td>1385444</td>\n",
       "      <td>1/1/21</td>\n",
       "      <td>C</td>\n",
       "      <td>0.08</td>\n",
       "      <td>O</td>\n",
       "      <td>1</td>\n",
       "    </tr>\n",
       "    <tr>\n",
       "      <th>4</th>\n",
       "      <td>1385445</td>\n",
       "      <td>1/1/21</td>\n",
       "      <td>C</td>\n",
       "      <td>5.45</td>\n",
       "      <td>U</td>\n",
       "      <td>1</td>\n",
       "    </tr>\n",
       "  </tbody>\n",
       "</table>\n",
       "</div>"
      ],
      "text/plain": [
       "       USN    Date Device  Duration Location Month\n",
       "0  1385441  1/1/21      C      1.82        U     1\n",
       "1  1385442  1/1/21      C      8.68        U     1\n",
       "2  1385443  1/1/21      C      2.59        U     1\n",
       "3  1385444  1/1/21      C      0.08        O     1\n",
       "4  1385445  1/1/21      C      5.45        U     1"
      ]
     },
     "execution_count": 382,
     "metadata": {},
     "output_type": "execute_result"
    }
   ],
   "source": [
    "# to represent the monthly complan rate I need to change the date to month format For USage\n",
    "import datetime\n",
    "month=[]\n",
    "for i in range(len(Usage)):\n",
    "  month.append(str(Usage.iloc[i]['Date']).split('/')[0])\n",
    "Usage['Month']=month\n",
    "Usage.head()"
   ]
  },
  {
   "cell_type": "code",
   "execution_count": 383,
   "id": "337c8504",
   "metadata": {},
   "outputs": [
    {
     "data": {
      "text/html": [
       "<div>\n",
       "<style scoped>\n",
       "    .dataframe tbody tr th:only-of-type {\n",
       "        vertical-align: middle;\n",
       "    }\n",
       "\n",
       "    .dataframe tbody tr th {\n",
       "        vertical-align: top;\n",
       "    }\n",
       "\n",
       "    .dataframe thead th {\n",
       "        text-align: right;\n",
       "    }\n",
       "</style>\n",
       "<table border=\"1\" class=\"dataframe\">\n",
       "  <thead>\n",
       "    <tr style=\"text-align: right;\">\n",
       "      <th></th>\n",
       "      <th>CSN</th>\n",
       "      <th>Device</th>\n",
       "      <th>Location</th>\n",
       "      <th>Symptom</th>\n",
       "      <th>Duration</th>\n",
       "      <th>Date</th>\n",
       "      <th>Month</th>\n",
       "    </tr>\n",
       "  </thead>\n",
       "  <tbody>\n",
       "    <tr>\n",
       "      <th>0</th>\n",
       "      <td>C-221-82070</td>\n",
       "      <td>C</td>\n",
       "      <td>D</td>\n",
       "      <td>DI</td>\n",
       "      <td>0.03</td>\n",
       "      <td>11/4/21</td>\n",
       "      <td>11</td>\n",
       "    </tr>\n",
       "    <tr>\n",
       "      <th>1</th>\n",
       "      <td>C-221-65822</td>\n",
       "      <td>C</td>\n",
       "      <td>U</td>\n",
       "      <td>LP</td>\n",
       "      <td>0.10</td>\n",
       "      <td>1/19/21</td>\n",
       "      <td>1</td>\n",
       "    </tr>\n",
       "    <tr>\n",
       "      <th>2</th>\n",
       "      <td>C-221-22846</td>\n",
       "      <td>C</td>\n",
       "      <td>D</td>\n",
       "      <td>BL</td>\n",
       "      <td>0.42</td>\n",
       "      <td>3/25/21</td>\n",
       "      <td>3</td>\n",
       "    </tr>\n",
       "    <tr>\n",
       "      <th>3</th>\n",
       "      <td>C-221-77792</td>\n",
       "      <td>C</td>\n",
       "      <td>U</td>\n",
       "      <td>PS</td>\n",
       "      <td>17.29</td>\n",
       "      <td>2/25/21</td>\n",
       "      <td>2</td>\n",
       "    </tr>\n",
       "    <tr>\n",
       "      <th>4</th>\n",
       "      <td>C-221-6632</td>\n",
       "      <td>C</td>\n",
       "      <td>U</td>\n",
       "      <td>HM</td>\n",
       "      <td>5.32</td>\n",
       "      <td>8/10/21</td>\n",
       "      <td>8</td>\n",
       "    </tr>\n",
       "  </tbody>\n",
       "</table>\n",
       "</div>"
      ],
      "text/plain": [
       "           CSN Device Location Symptom  Duration     Date Month\n",
       "0  C-221-82070      C        D      DI      0.03  11/4/21    11\n",
       "1  C-221-65822      C        U      LP      0.10  1/19/21     1\n",
       "2  C-221-22846      C        D      BL      0.42  3/25/21     3\n",
       "3  C-221-77792      C        U      PS     17.29  2/25/21     2\n",
       "4   C-221-6632      C        U      HM      5.32  8/10/21     8"
      ]
     },
     "execution_count": 383,
     "metadata": {},
     "output_type": "execute_result"
    }
   ],
   "source": [
    "# # to represent the monthly complan rate I need to change the date to month format For complaint\n",
    "month=[]\n",
    "for i in range(len(complaint)):\n",
    "  month.append(str(complaint.iloc[i]['Date']).split('/')[0])\n",
    "complaint['Month']=month\n",
    "\n",
    "complaint.head()"
   ]
  },
  {
   "cell_type": "markdown",
   "id": "7f5fd697",
   "metadata": {},
   "source": [
    "### Afterwards I need to take the count of number of usage and complaints for each month "
   ]
  },
  {
   "cell_type": "code",
   "execution_count": 470,
   "id": "e21e8c56",
   "metadata": {},
   "outputs": [],
   "source": [
    "# I used group by fucntion which will show the occurance of each variable for each month that \n",
    "#we can notice in bellow graph\n",
    "Usage_permonth = Usage.groupby(by=\"Month\", dropna=False).count()\n",
    "Complain_permonth = complaint.groupby(by=\"Month\", dropna=False).count()\n"
   ]
  },
  {
   "cell_type": "markdown",
   "id": "5ff255ed",
   "metadata": {},
   "source": [
    "### in this table the only usefull information is USN and CSN which will shows the number of Usage and Complaints for each month"
   ]
  },
  {
   "cell_type": "code",
   "execution_count": 684,
   "id": "4f1e24d0",
   "metadata": {},
   "outputs": [
    {
     "data": {
      "text/html": [
       "<div>\n",
       "<style scoped>\n",
       "    .dataframe tbody tr th:only-of-type {\n",
       "        vertical-align: middle;\n",
       "    }\n",
       "\n",
       "    .dataframe tbody tr th {\n",
       "        vertical-align: top;\n",
       "    }\n",
       "\n",
       "    .dataframe thead th {\n",
       "        text-align: right;\n",
       "    }\n",
       "</style>\n",
       "<table border=\"1\" class=\"dataframe\">\n",
       "  <thead>\n",
       "    <tr style=\"text-align: right;\">\n",
       "      <th></th>\n",
       "      <th>USN</th>\n",
       "      <th>Date</th>\n",
       "      <th>Device</th>\n",
       "      <th>Duration</th>\n",
       "      <th>Location</th>\n",
       "    </tr>\n",
       "    <tr>\n",
       "      <th>Month</th>\n",
       "      <th></th>\n",
       "      <th></th>\n",
       "      <th></th>\n",
       "      <th></th>\n",
       "      <th></th>\n",
       "    </tr>\n",
       "  </thead>\n",
       "  <tbody>\n",
       "    <tr>\n",
       "      <th>1</th>\n",
       "      <td>1014</td>\n",
       "      <td>1014</td>\n",
       "      <td>1014</td>\n",
       "      <td>1014</td>\n",
       "      <td>1014</td>\n",
       "    </tr>\n",
       "    <tr>\n",
       "      <th>10</th>\n",
       "      <td>1134</td>\n",
       "      <td>1134</td>\n",
       "      <td>1134</td>\n",
       "      <td>1134</td>\n",
       "      <td>1134</td>\n",
       "    </tr>\n",
       "    <tr>\n",
       "      <th>11</th>\n",
       "      <td>1111</td>\n",
       "      <td>1111</td>\n",
       "      <td>1111</td>\n",
       "      <td>1111</td>\n",
       "      <td>1111</td>\n",
       "    </tr>\n",
       "    <tr>\n",
       "      <th>12</th>\n",
       "      <td>1251</td>\n",
       "      <td>1251</td>\n",
       "      <td>1251</td>\n",
       "      <td>1251</td>\n",
       "      <td>1251</td>\n",
       "    </tr>\n",
       "    <tr>\n",
       "      <th>2</th>\n",
       "      <td>1031</td>\n",
       "      <td>1031</td>\n",
       "      <td>1031</td>\n",
       "      <td>1031</td>\n",
       "      <td>1031</td>\n",
       "    </tr>\n",
       "    <tr>\n",
       "      <th>3</th>\n",
       "      <td>1271</td>\n",
       "      <td>1271</td>\n",
       "      <td>1271</td>\n",
       "      <td>1271</td>\n",
       "      <td>1271</td>\n",
       "    </tr>\n",
       "    <tr>\n",
       "      <th>4</th>\n",
       "      <td>1099</td>\n",
       "      <td>1099</td>\n",
       "      <td>1099</td>\n",
       "      <td>1099</td>\n",
       "      <td>1099</td>\n",
       "    </tr>\n",
       "    <tr>\n",
       "      <th>5</th>\n",
       "      <td>1223</td>\n",
       "      <td>1223</td>\n",
       "      <td>1223</td>\n",
       "      <td>1223</td>\n",
       "      <td>1223</td>\n",
       "    </tr>\n",
       "    <tr>\n",
       "      <th>6</th>\n",
       "      <td>1207</td>\n",
       "      <td>1207</td>\n",
       "      <td>1207</td>\n",
       "      <td>1207</td>\n",
       "      <td>1207</td>\n",
       "    </tr>\n",
       "    <tr>\n",
       "      <th>7</th>\n",
       "      <td>1088</td>\n",
       "      <td>1088</td>\n",
       "      <td>1088</td>\n",
       "      <td>1088</td>\n",
       "      <td>1088</td>\n",
       "    </tr>\n",
       "    <tr>\n",
       "      <th>8</th>\n",
       "      <td>1091</td>\n",
       "      <td>1091</td>\n",
       "      <td>1091</td>\n",
       "      <td>1091</td>\n",
       "      <td>1091</td>\n",
       "    </tr>\n",
       "    <tr>\n",
       "      <th>9</th>\n",
       "      <td>1171</td>\n",
       "      <td>1171</td>\n",
       "      <td>1171</td>\n",
       "      <td>1171</td>\n",
       "      <td>1171</td>\n",
       "    </tr>\n",
       "  </tbody>\n",
       "</table>\n",
       "</div>"
      ],
      "text/plain": [
       "        USN  Date  Device  Duration  Location\n",
       "Month                                        \n",
       "1      1014  1014    1014      1014      1014\n",
       "10     1134  1134    1134      1134      1134\n",
       "11     1111  1111    1111      1111      1111\n",
       "12     1251  1251    1251      1251      1251\n",
       "2      1031  1031    1031      1031      1031\n",
       "3      1271  1271    1271      1271      1271\n",
       "4      1099  1099    1099      1099      1099\n",
       "5      1223  1223    1223      1223      1223\n",
       "6      1207  1207    1207      1207      1207\n",
       "7      1088  1088    1088      1088      1088\n",
       "8      1091  1091    1091      1091      1091\n",
       "9      1171  1171    1171      1171      1171"
      ]
     },
     "execution_count": 684,
     "metadata": {},
     "output_type": "execute_result"
    }
   ],
   "source": [
    "Usage_permonth.sort_values(by=[\"Month\"], ascending=True,inplace=True)\n",
    "Usage_permonth"
   ]
  },
  {
   "cell_type": "code",
   "execution_count": 472,
   "id": "9df2674e",
   "metadata": {},
   "outputs": [
    {
     "data": {
      "text/html": [
       "<div>\n",
       "<style scoped>\n",
       "    .dataframe tbody tr th:only-of-type {\n",
       "        vertical-align: middle;\n",
       "    }\n",
       "\n",
       "    .dataframe tbody tr th {\n",
       "        vertical-align: top;\n",
       "    }\n",
       "\n",
       "    .dataframe thead th {\n",
       "        text-align: right;\n",
       "    }\n",
       "</style>\n",
       "<table border=\"1\" class=\"dataframe\">\n",
       "  <thead>\n",
       "    <tr style=\"text-align: right;\">\n",
       "      <th></th>\n",
       "      <th>CSN</th>\n",
       "      <th>Device</th>\n",
       "      <th>Location</th>\n",
       "      <th>Symptom</th>\n",
       "      <th>Duration</th>\n",
       "      <th>Date</th>\n",
       "    </tr>\n",
       "    <tr>\n",
       "      <th>Month</th>\n",
       "      <th></th>\n",
       "      <th></th>\n",
       "      <th></th>\n",
       "      <th></th>\n",
       "      <th></th>\n",
       "      <th></th>\n",
       "    </tr>\n",
       "  </thead>\n",
       "  <tbody>\n",
       "    <tr>\n",
       "      <th>1</th>\n",
       "      <td>69</td>\n",
       "      <td>69</td>\n",
       "      <td>69</td>\n",
       "      <td>69</td>\n",
       "      <td>69</td>\n",
       "      <td>69</td>\n",
       "    </tr>\n",
       "    <tr>\n",
       "      <th>10</th>\n",
       "      <td>85</td>\n",
       "      <td>85</td>\n",
       "      <td>85</td>\n",
       "      <td>85</td>\n",
       "      <td>84</td>\n",
       "      <td>85</td>\n",
       "    </tr>\n",
       "    <tr>\n",
       "      <th>11</th>\n",
       "      <td>92</td>\n",
       "      <td>92</td>\n",
       "      <td>92</td>\n",
       "      <td>92</td>\n",
       "      <td>92</td>\n",
       "      <td>92</td>\n",
       "    </tr>\n",
       "    <tr>\n",
       "      <th>12</th>\n",
       "      <td>78</td>\n",
       "      <td>78</td>\n",
       "      <td>78</td>\n",
       "      <td>78</td>\n",
       "      <td>78</td>\n",
       "      <td>78</td>\n",
       "    </tr>\n",
       "    <tr>\n",
       "      <th>2</th>\n",
       "      <td>66</td>\n",
       "      <td>66</td>\n",
       "      <td>66</td>\n",
       "      <td>66</td>\n",
       "      <td>65</td>\n",
       "      <td>66</td>\n",
       "    </tr>\n",
       "    <tr>\n",
       "      <th>3</th>\n",
       "      <td>86</td>\n",
       "      <td>86</td>\n",
       "      <td>86</td>\n",
       "      <td>86</td>\n",
       "      <td>85</td>\n",
       "      <td>86</td>\n",
       "    </tr>\n",
       "    <tr>\n",
       "      <th>4</th>\n",
       "      <td>90</td>\n",
       "      <td>90</td>\n",
       "      <td>90</td>\n",
       "      <td>90</td>\n",
       "      <td>90</td>\n",
       "      <td>90</td>\n",
       "    </tr>\n",
       "    <tr>\n",
       "      <th>5</th>\n",
       "      <td>107</td>\n",
       "      <td>107</td>\n",
       "      <td>107</td>\n",
       "      <td>107</td>\n",
       "      <td>107</td>\n",
       "      <td>107</td>\n",
       "    </tr>\n",
       "    <tr>\n",
       "      <th>6</th>\n",
       "      <td>92</td>\n",
       "      <td>92</td>\n",
       "      <td>92</td>\n",
       "      <td>92</td>\n",
       "      <td>91</td>\n",
       "      <td>92</td>\n",
       "    </tr>\n",
       "    <tr>\n",
       "      <th>7</th>\n",
       "      <td>76</td>\n",
       "      <td>76</td>\n",
       "      <td>76</td>\n",
       "      <td>76</td>\n",
       "      <td>75</td>\n",
       "      <td>76</td>\n",
       "    </tr>\n",
       "    <tr>\n",
       "      <th>8</th>\n",
       "      <td>68</td>\n",
       "      <td>68</td>\n",
       "      <td>68</td>\n",
       "      <td>68</td>\n",
       "      <td>68</td>\n",
       "      <td>68</td>\n",
       "    </tr>\n",
       "    <tr>\n",
       "      <th>9</th>\n",
       "      <td>69</td>\n",
       "      <td>69</td>\n",
       "      <td>69</td>\n",
       "      <td>69</td>\n",
       "      <td>69</td>\n",
       "      <td>69</td>\n",
       "    </tr>\n",
       "  </tbody>\n",
       "</table>\n",
       "</div>"
      ],
      "text/plain": [
       "       CSN  Device  Location  Symptom  Duration  Date\n",
       "Month                                                \n",
       "1       69      69        69       69        69    69\n",
       "10      85      85        85       85        84    85\n",
       "11      92      92        92       92        92    92\n",
       "12      78      78        78       78        78    78\n",
       "2       66      66        66       66        65    66\n",
       "3       86      86        86       86        85    86\n",
       "4       90      90        90       90        90    90\n",
       "5      107     107       107      107       107   107\n",
       "6       92      92        92       92        91    92\n",
       "7       76      76        76       76        75    76\n",
       "8       68      68        68       68        68    68\n",
       "9       69      69        69       69        69    69"
      ]
     },
     "execution_count": 472,
     "metadata": {},
     "output_type": "execute_result"
    }
   ],
   "source": [
    "Complain_permonth.sort_values( by=[\"Month\"], ascending=True,inplace=True)\n",
    "Complain_permonth"
   ]
  },
  {
   "cell_type": "code",
   "execution_count": 473,
   "id": "300680aa",
   "metadata": {},
   "outputs": [],
   "source": [
    "comp_rate=Complain_permonth['CSN']/Usage_permonth['USN']"
   ]
  },
  {
   "cell_type": "markdown",
   "id": "8f80766e",
   "metadata": {},
   "source": [
    "#### The data bellow represent the overall Complain rate for each month"
   ]
  },
  {
   "cell_type": "code",
   "execution_count": 474,
   "id": "69366eea",
   "metadata": {},
   "outputs": [
    {
     "data": {
      "text/plain": [
       "Month\n",
       "1     0.068047\n",
       "10    0.074956\n",
       "11    0.082808\n",
       "12    0.062350\n",
       "2     0.064016\n",
       "3     0.067663\n",
       "4     0.081893\n",
       "5     0.087490\n",
       "6     0.076222\n",
       "7     0.069853\n",
       "8     0.062328\n",
       "9     0.058924\n",
       "dtype: float64"
      ]
     },
     "execution_count": 474,
     "metadata": {},
     "output_type": "execute_result"
    }
   ],
   "source": [
    "comp_rate"
   ]
  },
  {
   "cell_type": "markdown",
   "id": "ecb1e49d",
   "metadata": {},
   "source": [
    "### the following bar chart represnt Overall Monthly bar chart for each month"
   ]
  },
  {
   "cell_type": "code",
   "execution_count": 533,
   "id": "264a574f",
   "metadata": {},
   "outputs": [
    {
     "name": "stderr",
     "output_type": "stream",
     "text": [
      "/opt/anaconda3/lib/python3.8/site-packages/seaborn/_decorators.py:36: FutureWarning: Pass the following variables as keyword args: x, y. From version 0.12, the only valid positional argument will be `data`, and passing other arguments without an explicit keyword will result in an error or misinterpretation.\n",
      "  warnings.warn(\n"
     ]
    },
    {
     "data": {
      "image/png": "[encoded data removed]",
      "text/plain": [
       "<Figure size 432x288 with 1 Axes>"
      ]
     },
     "metadata": {
      "needs_background": "light"
     },
     "output_type": "display_data"
    }
   ],
   "source": [
    "# using matplot lib bar chart\n",
    "mm=[1,10,11,12,2,3,4,5,6,7,8,9]# adding this in oder to over come series error in sorting\n",
    "ploat = sns.barplot(mm,comp_rate)\n",
    "anote(ploat)"
   ]
  },
  {
   "cell_type": "markdown",
   "id": "8d613dea",
   "metadata": {},
   "source": [
    "### To represent monthlly complain rate for each device "
   ]
  },
  {
   "cell_type": "code",
   "execution_count": 496,
   "id": "98305b47",
   "metadata": {},
   "outputs": [],
   "source": [
    "# First I need to create Seprate data set for each device Usage\n",
    "UsageC=Usage.loc[Usage['Device']=='C']\n",
    "UsageT=Usage.loc[Usage['Device']=='T']\n",
    "UsageF=Usage.loc[Usage['Device']=='F']\n",
    "UsageO=Usage.loc[Usage['Device']=='O']\n"
   ]
  },
  {
   "cell_type": "code",
   "execution_count": 497,
   "id": "2bb89987",
   "metadata": {},
   "outputs": [],
   "source": [
    "# First I need to create Seprate data set for each device Complaint\n",
    "ComplainC=complaint.loc[complaint['Device']=='C']\n",
    "ComplainT=complaint.loc[complaint['Device']=='T']\n",
    "ComplainF=complaint.loc[complaint['Device']=='F']\n",
    "ComplainO=complaint.loc[complaint['Device']=='O']"
   ]
  },
  {
   "cell_type": "code",
   "execution_count": 539,
   "id": "09f31733",
   "metadata": {},
   "outputs": [
    {
     "name": "stderr",
     "output_type": "stream",
     "text": [
      "/opt/anaconda3/lib/python3.8/site-packages/seaborn/_decorators.py:36: FutureWarning: Pass the following variables as keyword args: x, y. From version 0.12, the only valid positional argument will be `data`, and passing other arguments without an explicit keyword will result in an error or misinterpretation.\n",
      "  warnings.warn(\n"
     ]
    },
    {
     "data": {
      "image/png": "[encoded data removed]",
      "text/plain": [
       "<Figure size 432x288 with 1 Axes>"
      ]
     },
     "metadata": {
      "needs_background": "light"
     },
     "output_type": "display_data"
    }
   ],
   "source": [
    "# I used group by fucntion which will show the occurance of each variable for each month that \n",
    "#we can notice in bellow graph\n",
    "Usage_permonth_deviceC = UsageC.groupby(by=\"Month\", dropna=False).count()\n",
    "Complain_permonth_deviceC = ComplainC.groupby(by=\"Month\", dropna=False).count()\n",
    "\n",
    "comp_rateC = Complain_permonth_deviceC['CSN']/Usage_permonth_deviceC['USN']\n",
    "mm=[1,10,11,12,2,3,4,5,6,7,8,9]\n",
    "plot = sns.barplot(mm,comp_rateC)\n",
    "anote(plot)"
   ]
  },
  {
   "cell_type": "code",
   "execution_count": 540,
   "id": "0936bd8d",
   "metadata": {},
   "outputs": [
    {
     "name": "stderr",
     "output_type": "stream",
     "text": [
      "/opt/anaconda3/lib/python3.8/site-packages/seaborn/_decorators.py:36: FutureWarning: Pass the following variables as keyword args: x, y. From version 0.12, the only valid positional argument will be `data`, and passing other arguments without an explicit keyword will result in an error or misinterpretation.\n",
      "  warnings.warn(\n"
     ]
    },
    {
     "data": {
      "image/png": "[encoded data removed]",
      "text/plain": [
       "<Figure size 432x288 with 1 Axes>"
      ]
     },
     "metadata": {
      "needs_background": "light"
     },
     "output_type": "display_data"
    }
   ],
   "source": [
    "Usage_permonth_deviceT = UsageT.groupby(by=\"Month\", dropna=False).count()\n",
    "Complain_permonth_deviceT = ComplainT.groupby(by=\"Month\", dropna=False).count()\n",
    "\n",
    "comp_rateT = Complain_permonth_deviceT['CSN']/Usage_permonth_deviceT['USN']\n",
    "mm=[1,10,11,12,2,3,4,5,6,7,8,9]\n",
    "plot = sns.barplot(mm,comp_rateT)\n",
    "anote(plot)"
   ]
  },
  {
   "cell_type": "code",
   "execution_count": 541,
   "id": "0c8de3d9",
   "metadata": {},
   "outputs": [
    {
     "name": "stderr",
     "output_type": "stream",
     "text": [
      "/opt/anaconda3/lib/python3.8/site-packages/seaborn/_decorators.py:36: FutureWarning: Pass the following variables as keyword args: x, y. From version 0.12, the only valid positional argument will be `data`, and passing other arguments without an explicit keyword will result in an error or misinterpretation.\n",
      "  warnings.warn(\n"
     ]
    },
    {
     "data": {
      "image/png": "[encoded data removed]",
      "text/plain": [
       "<Figure size 432x288 with 1 Axes>"
      ]
     },
     "metadata": {
      "needs_background": "light"
     },
     "output_type": "display_data"
    }
   ],
   "source": [
    "Usage_permonth_deviceF = UsageF.groupby(by=\"Month\", dropna=False).count()\n",
    "Complain_permonth_deviceF = ComplainF.groupby(by=\"Month\", dropna=False).count()\n",
    "\n",
    "comp_rateF = Complain_permonth_deviceF['CSN']/Usage_permonth_deviceF['USN']\n",
    "mm=[1,10,11,12,2,3,4,5,6,7,8,9]\n",
    "plot = sns.barplot(mm,comp_rateF)\n",
    "anote(plot)"
   ]
  },
  {
   "cell_type": "code",
   "execution_count": 542,
   "id": "906d8075",
   "metadata": {},
   "outputs": [
    {
     "name": "stderr",
     "output_type": "stream",
     "text": [
      "/opt/anaconda3/lib/python3.8/site-packages/seaborn/_decorators.py:36: FutureWarning: Pass the following variables as keyword args: x, y. From version 0.12, the only valid positional argument will be `data`, and passing other arguments without an explicit keyword will result in an error or misinterpretation.\n",
      "  warnings.warn(\n"
     ]
    },
    {
     "data": {
      "image/png": "[encoded data removed]",
      "text/plain": [
       "<Figure size 432x288 with 1 Axes>"
      ]
     },
     "metadata": {
      "needs_background": "light"
     },
     "output_type": "display_data"
    }
   ],
   "source": [
    "Usage_permonth_deviceO = UsageO.groupby(by=\"Month\", dropna=False).count()\n",
    "Complain_permonth_deviceO = ComplainO.groupby(by=\"Month\", dropna=False).count()\n",
    "\n",
    "comp_rateO = Complain_permonth_deviceO['CSN']/Usage_permonth_deviceO['USN']\n",
    "\n",
    "mm=[1,10,11,12,2,3,4,5,6,7,8,9]\n",
    "plot = sns.barplot(mm,comp_rateO)\n",
    "anote(plot)"
   ]
  },
  {
   "cell_type": "markdown",
   "id": "619e8000",
   "metadata": {},
   "source": [
    "### The following bar chart represents the monthly complain rate for each device. X axis represetn month by nymbers."
   ]
  },
  {
   "cell_type": "code",
   "execution_count": 572,
   "id": "4c994a0d",
   "metadata": {},
   "outputs": [
    {
     "name": "stderr",
     "output_type": "stream",
     "text": [
      "/opt/anaconda3/lib/python3.8/site-packages/seaborn/_decorators.py:36: FutureWarning: Pass the following variables as keyword args: x, y. From version 0.12, the only valid positional argument will be `data`, and passing other arguments without an explicit keyword will result in an error or misinterpretation.\n",
      "  warnings.warn(\n",
      "/opt/anaconda3/lib/python3.8/site-packages/seaborn/_decorators.py:36: FutureWarning: Pass the following variables as keyword args: x, y. From version 0.12, the only valid positional argument will be `data`, and passing other arguments without an explicit keyword will result in an error or misinterpretation.\n",
      "  warnings.warn(\n"
     ]
    },
    {
     "data": {
      "text/plain": [
       "Text(0.5, 1.0, 'Device Type :O')"
      ]
     },
     "execution_count": 572,
     "metadata": {},
     "output_type": "execute_result"
    },
    {
     "data": {
      "image/png": "[encoded data removed]",
      "text/plain": [
       "<Figure size 864x360 with 2 Axes>"
      ]
     },
     "metadata": {
      "needs_background": "light"
     },
     "output_type": "display_data"
    },
    {
     "data": {
      "image/png": "[encoded data removed]",
      "text/plain": [
       "<Figure size 864x360 with 2 Axes>"
      ]
     },
     "metadata": {
      "needs_background": "light"
     },
     "output_type": "display_data"
    }
   ],
   "source": [
    "mm=[1,10,11,12,2,3,4,5,6,7,8,9]\n",
    "fig, ax1 = plt.subplots(1,2,figsize=(12,5),sharey=True)\n",
    "fig, ax2 = plt.subplots(1,2,figsize=(12,5),sharey=True)\n",
    "plot1 = sns.barplot(x=mm,y=comp_rateC,ax=ax1[0])\n",
    "anote(plot1)\n",
    "ax1[0].set_title('Device Type :C')\n",
    "plot2 = sns.barplot(x=mm,y=comp_rateT,ax=ax1[1])\n",
    "anote(plot2)\n",
    "ax1[1].set_title('Device Type :T')\n",
    "plot3 = sns.barplot(mm,comp_rateF,ax=ax2[0])\n",
    "anote(plot3)\n",
    "ax2[0].set_title('Device Type :F')\n",
    "plot4 = sns.barplot(mm,comp_rateO,ax=ax2[1])\n",
    "anote(plot4)\n",
    "ax2[1].set_title('Device Type :O')"
   ]
  },
  {
   "cell_type": "code",
   "execution_count": 504,
   "id": "3e18cc43",
   "metadata": {},
   "outputs": [
    {
     "name": "stdout",
     "output_type": "stream",
     "text": [
      "LP    0.019173\n",
      "DI    0.013623\n",
      "BL    0.013320\n",
      "PS    0.013017\n",
      "HM    0.011806\n",
      "CS    0.007064\n",
      "Name: Symptom, dtype: float64\n"
     ]
    }
   ],
   "source": [
    "a = UsageC['Device'].value_counts()\n",
    "complainrate_symptom_c = []\n",
    "complainrate_symptom_c = b/a[0]\n",
    "\n",
    "print(complainrate_symptom_c)\n",
    "temp = {}\n",
    "\n",
    "# for i in range(len(complainrate_symptom_c)):\n",
    "#     temp['c'].append(complainrate_symptom_c[i])"
   ]
  },
  {
   "cell_type": "code",
   "execution_count": 505,
   "id": "88064c51",
   "metadata": {},
   "outputs": [],
   "source": [
    "#for selecting thte number of usage for each location\n",
    "# This will select the values for all type of location\n",
    "Usage_locaiton_D = Usage.loc[Usage['Location']=='D']\n",
    "Usage_locaiton_U = Usage.loc[Usage['Location']=='U']\n",
    "Usage_locaiton_O = Usage.loc[Usage['Location']=='O']\n",
    "Usage_locaiton_J = Usage.loc[Usage['Location']=='J']"
   ]
  },
  {
   "cell_type": "code",
   "execution_count": 508,
   "id": "7cae228f",
   "metadata": {},
   "outputs": [],
   "source": [
    "#for selecting thte number of complain for each device\n",
    "# This will select the values for each device overall\n",
    "Complain_locaiton_D = complaint.loc[complaint['Location']=='D']\n",
    "Complain_locaiton_U = complaint.loc[complaint['Location']=='U']\n",
    "Complain_locaiton_O = complaint.loc[complaint['Location']=='O']\n",
    "Complain_locaiton_J = complaint.loc[complaint['Location']=='J']"
   ]
  },
  {
   "cell_type": "code",
   "execution_count": 517,
   "id": "3d8f631d",
   "metadata": {},
   "outputs": [
    {
     "data": {
      "text/plain": [
       "<BarContainer object of 12 artists>"
      ]
     },
     "execution_count": 517,
     "metadata": {},
     "output_type": "execute_result"
    },
    {
     "data": {
      "image/png": "[encoded data removed]",
      "text/plain": [
       "<Figure size 432x288 with 1 Axes>"
      ]
     },
     "metadata": {
      "needs_background": "light"
     },
     "output_type": "display_data"
    }
   ],
   "source": [
    "# I used group by fucntion which will show the occurance of each variable for each month that \n",
    "#we can notice in bellow graph\n",
    "Usage_permonth_locationD = Usage_locaiton_D.groupby(by=\"Month\", dropna=False).count()\n",
    "Complain_permonth_locationD = Complain_locaiton_D.groupby(by=\"Month\", dropna=False).count()\n",
    "\n",
    "comp_rate_locationD = Complain_permonth_locationD['CSN']/Usage_permonth_locationD['USN']\n",
    "mm=[1,10,11,12,2,3,4,5,6,7,8,9]\n",
    "plt.bar(mm,comp_rate_locationD)"
   ]
  },
  {
   "cell_type": "code",
   "execution_count": 518,
   "id": "27bd64c3",
   "metadata": {},
   "outputs": [
    {
     "data": {
      "text/plain": [
       "<BarContainer object of 12 artists>"
      ]
     },
     "execution_count": 518,
     "metadata": {},
     "output_type": "execute_result"
    },
    {
     "data": {
      "image/png": "[encoded data removed]",
      "text/plain": [
       "<Figure size 432x288 with 1 Axes>"
      ]
     },
     "metadata": {
      "needs_background": "light"
     },
     "output_type": "display_data"
    }
   ],
   "source": [
    "Usage_permonth_locationU = Usage_locaiton_U.groupby(by=\"Month\", dropna=False).count()\n",
    "Complain_permonth_locationU = Complain_locaiton_U.groupby(by=\"Month\", dropna=False).count()\n",
    "\n",
    "comp_rate_locationU = Complain_permonth_locationU['CSN']/Usage_permonth_locationU['USN']\n",
    "mm=[1,10,11,12,2,3,4,5,6,7,8,9]\n",
    "plt.bar(mm,comp_rate_locationU)"
   ]
  },
  {
   "cell_type": "code",
   "execution_count": 520,
   "id": "878bf47f",
   "metadata": {},
   "outputs": [
    {
     "data": {
      "text/plain": [
       "<BarContainer object of 12 artists>"
      ]
     },
     "execution_count": 520,
     "metadata": {},
     "output_type": "execute_result"
    },
    {
     "data": {
      "image/png": "[encoded data removed]",
      "text/plain": [
       "<Figure size 432x288 with 1 Axes>"
      ]
     },
     "metadata": {
      "needs_background": "light"
     },
     "output_type": "display_data"
    }
   ],
   "source": [
    "Usage_permonth_locationO = Usage_locaiton_O.groupby(by=\"Month\", dropna=False).count()\n",
    "Complain_permonth_locationO = Complain_locaiton_O.groupby(by=\"Month\", dropna=False).count()\n",
    "\n",
    "comp_rate_locationO = Complain_permonth_locationO['CSN']/Usage_permonth_locationO['USN']\n",
    "mm=[1,10,11,12,2,3,4,5,6,7,8,9]\n",
    "plt.bar(mm,comp_rate_locationO)"
   ]
  },
  {
   "cell_type": "code",
   "execution_count": 521,
   "id": "9a21742e",
   "metadata": {},
   "outputs": [
    {
     "data": {
      "text/plain": [
       "<BarContainer object of 12 artists>"
      ]
     },
     "execution_count": 521,
     "metadata": {},
     "output_type": "execute_result"
    },
    {
     "data": {
      "image/png": "[encoded data removed]",
      "text/plain": [
       "<Figure size 432x288 with 1 Axes>"
      ]
     },
     "metadata": {
      "needs_background": "light"
     },
     "output_type": "display_data"
    }
   ],
   "source": [
    "Usage_permonth_locationJ = Usage_locaiton_J.groupby(by=\"Month\", dropna=False).count()\n",
    "Complain_permonth_locationJ = Complain_locaiton_J.groupby(by=\"Month\", dropna=False).count()\n",
    "\n",
    "comp_rate_locationJ = Complain_permonth_locationJ['CSN']/Usage_permonth_locationJ['USN']\n",
    "mm=[1,10,11,12,2,3,4,5,6,7,8,9]\n",
    "plt.bar(mm,comp_rate_locationJ)"
   ]
  },
  {
   "cell_type": "markdown",
   "id": "350a765b",
   "metadata": {},
   "source": [
    "### The following bar chart represents the monthly complain rate for each device. X axis represetn month by nymbers."
   ]
  },
  {
   "cell_type": "code",
   "execution_count": 576,
   "id": "405b5f00",
   "metadata": {},
   "outputs": [
    {
     "name": "stderr",
     "output_type": "stream",
     "text": [
      "/opt/anaconda3/lib/python3.8/site-packages/seaborn/_decorators.py:36: FutureWarning: Pass the following variables as keyword args: x, y. From version 0.12, the only valid positional argument will be `data`, and passing other arguments without an explicit keyword will result in an error or misinterpretation.\n",
      "  warnings.warn(\n"
     ]
    },
    {
     "data": {
      "text/plain": [
       "Text(0.5, 1.0, 'Location :J')"
      ]
     },
     "execution_count": 576,
     "metadata": {},
     "output_type": "execute_result"
    },
    {
     "data": {
      "image/png": "[encoded data removed]",
      "text/plain": [
       "<Figure size 864x360 with 2 Axes>"
      ]
     },
     "metadata": {
      "needs_background": "light"
     },
     "output_type": "display_data"
    },
    {
     "data": {
      "image/png": "[encoded data removed]",
      "text/plain": [
       "<Figure size 864x360 with 2 Axes>"
      ]
     },
     "metadata": {
      "needs_background": "light"
     },
     "output_type": "display_data"
    }
   ],
   "source": [
    "mm=[1,10,11,12,2,3,4,5,6,7,8,9]\n",
    "fig, ax1 = plt.subplots(1,2,figsize=(12,5),sharey=True)\n",
    "fig, ax2 = plt.subplots(1,2,figsize=(12,5),sharey=True)\n",
    "plot1 = sns.barplot(x=mm,y=comp_rate_locationD,ax=ax1[0])\n",
    "anote(plot1)\n",
    "ax1[0].set_title('Location :D')\n",
    "plot2 = sns.barplot(x=mm,y=comp_rate_locationU,ax=ax1[1])\n",
    "anote(plot2)\n",
    "ax1[1].set_title('Location :U')\n",
    "plot3 = sns.barplot(x=mm,y=comp_rate_locationO,ax=ax2[0])\n",
    "anote(plot3)\n",
    "ax2[0].set_title('Location :O')\n",
    "plot4 = sns.barplot(mm,comp_rate_locationJ,ax=ax2[1])\n",
    "anote(plot4)\n",
    "ax2[1].set_title('Location :J')"
   ]
  },
  {
   "cell_type": "code",
   "execution_count": 605,
   "id": "c79041a7",
   "metadata": {},
   "outputs": [],
   "source": [
    "#for selecting thte number of usage for each device\n",
    "# This will select the values for all device type\n",
    "Complain_symptom_DI = complaint.loc[complaint['Symptom']=='DI']\n",
    "Complain_symptom_LP = complaint.loc[complaint['Symptom']=='LP']\n",
    "Complain_symptom_BL = complaint.loc[complaint['Symptom']=='BL']\n",
    "Complain_symptom_PS = complaint.loc[complaint['Symptom']=='PS']\n",
    "Complain_symptom_HM = complaint.loc[complaint['Symptom']=='HM']\n",
    "Complain_symptom_CS = complaint.loc[complaint['Symptom']=='CS']"
   ]
  },
  {
   "cell_type": "code",
   "execution_count": 611,
   "id": "e407b7f0",
   "metadata": {},
   "outputs": [],
   "source": [
    "Complain_permonth_symptom_DI = Complain_symptom_DI.groupby(by=\"Month\", dropna=False).count()\n",
    "comp_rate_symptom_DI = Complain_permonth_symptom_DI['CSN']/Usage_permonth['USN']\n",
    "\n",
    "Complain_permonth_symptom_LP = Complain_symptom_LP.groupby(by=\"Month\", dropna=False).count()\n",
    "comp_rate_symptom_LP = Complain_permonth_symptom_LP['CSN']/Usage_permonth['USN']\n",
    "\n",
    "Complain_permonth_symptom_BL = Complain_symptom_BL.groupby(by=\"Month\", dropna=False).count()\n",
    "comp_rate_symptom_BL = Complain_permonth_symptom_BL['CSN']/Usage_permonth['USN']\n",
    "\n",
    "Complain_permonth_symptom_PS = Complain_symptom_PS.groupby(by=\"Month\", dropna=False).count()\n",
    "comp_rate_symptom_PS = Complain_permonth_symptom_PS['CSN']/Usage_permonth['USN']\n",
    "\n",
    "Complain_permonth_symptom_HM = Complain_symptom_HM.groupby(by=\"Month\", dropna=False).count()\n",
    "comp_rate_symptom_HM = Complain_permonth_symptom_HM['CSN']/Usage_permonth['USN']\n",
    "\n",
    "Complain_permonth_symptom_CS = Complain_symptom_CS.groupby(by=\"Month\", dropna=False).count()\n",
    "comp_rate_symptom_CS = Complain_permonth_symptom_CS['CSN']/Usage_permonth['USN']"
   ]
  },
  {
   "cell_type": "code",
   "execution_count": 610,
   "id": "dcaab677",
   "metadata": {},
   "outputs": [
    {
     "name": "stderr",
     "output_type": "stream",
     "text": [
      "/opt/anaconda3/lib/python3.8/site-packages/seaborn/_decorators.py:36: FutureWarning: Pass the following variables as keyword args: x, y. From version 0.12, the only valid positional argument will be `data`, and passing other arguments without an explicit keyword will result in an error or misinterpretation.\n",
      "  warnings.warn(\n",
      "/opt/anaconda3/lib/python3.8/site-packages/seaborn/_decorators.py:36: FutureWarning: Pass the following variables as keyword args: x, y. From version 0.12, the only valid positional argument will be `data`, and passing other arguments without an explicit keyword will result in an error or misinterpretation.\n",
      "  warnings.warn(\n",
      "/opt/anaconda3/lib/python3.8/site-packages/seaborn/_decorators.py:36: FutureWarning: Pass the following variables as keyword args: x, y. From version 0.12, the only valid positional argument will be `data`, and passing other arguments without an explicit keyword will result in an error or misinterpretation.\n",
      "  warnings.warn(\n"
     ]
    },
    {
     "data": {
      "text/plain": [
       "Text(0.5, 1.0, 'Symptom: CS')"
      ]
     },
     "execution_count": 610,
     "metadata": {},
     "output_type": "execute_result"
    },
    {
     "data": {
      "image/png": "[encoded data removed]",
      "text/plain": [
       "<Figure size 864x360 with 3 Axes>"
      ]
     },
     "metadata": {
      "needs_background": "light"
     },
     "output_type": "display_data"
    },
    {
     "data": {
      "image/png": "[encoded data removed]",
      "text/plain": [
       "<Figure size 864x360 with 3 Axes>"
      ]
     },
     "metadata": {
      "needs_background": "light"
     },
     "output_type": "display_data"
    }
   ],
   "source": [
    "mm=[1,10,11,12,2,3,4,5,6,7,8,9]\n",
    "fig, ax1 = plt.subplots(1,3,figsize=(12,5),sharey=True)\n",
    "fig, ax2 = plt.subplots(1,3,figsize=(12,5),sharey=True)\n",
    "plot1 = sns.barplot(x=mm,y=comp_rate_symptom_DI,ax=ax1[0])\n",
    "anote(plot1)\n",
    "ax1[0].set_title('Symptom: DI')\n",
    "plot2 = sns.barplot(x=mm,y=comp_rate_symptom_LP,ax=ax1[1])\n",
    "anote(plot2)\n",
    "ax1[1].set_title('Symptom: LP')\n",
    "plot3 = sns.barplot(x=mm,y=comp_rate_symptom_BL,ax=ax1[2])\n",
    "anote(plot3)\n",
    "ax1[2].set_title('Symptom: BL')\n",
    "plot4 = sns.barplot(mm,comp_rate_symptom_PS,ax=ax2[0])\n",
    "anote(plot4)\n",
    "ax2[0].set_title('Symptom: PS')\n",
    "plot4 = sns.barplot(mm,comp_rate_symptom_HM,ax=ax2[1])\n",
    "anote(plot4)\n",
    "ax2[1].set_title('Symptom: HM')\n",
    "plot4 = sns.barplot(mm,comp_rate_symptom_CS,ax=ax2[2])\n",
    "anote(plot4)\n",
    "ax2[2].set_title('Symptom: CS')"
   ]
  },
  {
   "cell_type": "markdown",
   "id": "39f0e9c1",
   "metadata": {},
   "source": [
    "## 4) Explain the spread of Duration by Symptom. Identify any outliers. How does the spread look? What kind of analysis is required to find the probability that a Device would fail after certain duration of use\n"
   ]
  },
  {
   "cell_type": "code",
   "execution_count": null,
   "id": "b32c43a6",
   "metadata": {},
   "outputs": [],
   "source": [
    "Complain_symptom_DI = complaint.loc[complaint['Symptom']=='DI']\n",
    "Complain_symptom_LP = complaint.loc[complaint['Symptom']=='LP']\n",
    "Complain_symptom_BL = complaint.loc[complaint['Symptom']=='BL']\n",
    "Complain_symptom_PS = complaint.loc[complaint['Symptom']=='PS']\n",
    "Complain_symptom_HM = complaint.loc[complaint['Symptom']=='HM']\n",
    "Complain_symptom_CS = complaint.loc[complaint['Symptom']=='CS']"
   ]
  },
  {
   "cell_type": "code",
   "execution_count": 612,
   "id": "3f137a1f",
   "metadata": {},
   "outputs": [
    {
     "data": {
      "text/html": [
       "<div>\n",
       "<style scoped>\n",
       "    .dataframe tbody tr th:only-of-type {\n",
       "        vertical-align: middle;\n",
       "    }\n",
       "\n",
       "    .dataframe tbody tr th {\n",
       "        vertical-align: top;\n",
       "    }\n",
       "\n",
       "    .dataframe thead th {\n",
       "        text-align: right;\n",
       "    }\n",
       "</style>\n",
       "<table border=\"1\" class=\"dataframe\">\n",
       "  <thead>\n",
       "    <tr style=\"text-align: right;\">\n",
       "      <th></th>\n",
       "      <th>CSN</th>\n",
       "      <th>Device</th>\n",
       "      <th>Location</th>\n",
       "      <th>Symptom</th>\n",
       "      <th>Duration</th>\n",
       "      <th>Date</th>\n",
       "      <th>Month</th>\n",
       "    </tr>\n",
       "  </thead>\n",
       "  <tbody>\n",
       "    <tr>\n",
       "      <th>0</th>\n",
       "      <td>C-221-82070</td>\n",
       "      <td>C</td>\n",
       "      <td>D</td>\n",
       "      <td>DI</td>\n",
       "      <td>0.03</td>\n",
       "      <td>11/4/21</td>\n",
       "      <td>11</td>\n",
       "    </tr>\n",
       "    <tr>\n",
       "      <th>7</th>\n",
       "      <td>C-221-88991</td>\n",
       "      <td>T</td>\n",
       "      <td>U</td>\n",
       "      <td>DI</td>\n",
       "      <td>0.13</td>\n",
       "      <td>4/2/21</td>\n",
       "      <td>4</td>\n",
       "    </tr>\n",
       "    <tr>\n",
       "      <th>18</th>\n",
       "      <td>C-221-90833</td>\n",
       "      <td>T</td>\n",
       "      <td>U</td>\n",
       "      <td>DI</td>\n",
       "      <td>0.02</td>\n",
       "      <td>9/29/21</td>\n",
       "      <td>9</td>\n",
       "    </tr>\n",
       "    <tr>\n",
       "      <th>24</th>\n",
       "      <td>C-221-34351</td>\n",
       "      <td>O</td>\n",
       "      <td>D</td>\n",
       "      <td>DI</td>\n",
       "      <td>0.01</td>\n",
       "      <td>8/21/21</td>\n",
       "      <td>8</td>\n",
       "    </tr>\n",
       "    <tr>\n",
       "      <th>27</th>\n",
       "      <td>C-221-92726</td>\n",
       "      <td>T</td>\n",
       "      <td>U</td>\n",
       "      <td>DI</td>\n",
       "      <td>0.08</td>\n",
       "      <td>6/4/21</td>\n",
       "      <td>6</td>\n",
       "    </tr>\n",
       "    <tr>\n",
       "      <th>...</th>\n",
       "      <td>...</td>\n",
       "      <td>...</td>\n",
       "      <td>...</td>\n",
       "      <td>...</td>\n",
       "      <td>...</td>\n",
       "      <td>...</td>\n",
       "      <td>...</td>\n",
       "    </tr>\n",
       "    <tr>\n",
       "      <th>966</th>\n",
       "      <td>C-221-50812</td>\n",
       "      <td>T</td>\n",
       "      <td>J</td>\n",
       "      <td>DI</td>\n",
       "      <td>4.00</td>\n",
       "      <td>4/15/21</td>\n",
       "      <td>4</td>\n",
       "    </tr>\n",
       "    <tr>\n",
       "      <th>967</th>\n",
       "      <td>C-221-74912</td>\n",
       "      <td>F</td>\n",
       "      <td>U</td>\n",
       "      <td>DI</td>\n",
       "      <td>0.22</td>\n",
       "      <td>3/24/21</td>\n",
       "      <td>3</td>\n",
       "    </tr>\n",
       "    <tr>\n",
       "      <th>969</th>\n",
       "      <td>C-221-46422</td>\n",
       "      <td>C</td>\n",
       "      <td>U</td>\n",
       "      <td>DI</td>\n",
       "      <td>0.02</td>\n",
       "      <td>11/15/21</td>\n",
       "      <td>11</td>\n",
       "    </tr>\n",
       "    <tr>\n",
       "      <th>975</th>\n",
       "      <td>C-221-46840</td>\n",
       "      <td>C</td>\n",
       "      <td>U</td>\n",
       "      <td>DI</td>\n",
       "      <td>0.10</td>\n",
       "      <td>7/6/21</td>\n",
       "      <td>7</td>\n",
       "    </tr>\n",
       "    <tr>\n",
       "      <th>977</th>\n",
       "      <td>C-221-99956</td>\n",
       "      <td>C</td>\n",
       "      <td>D</td>\n",
       "      <td>DI</td>\n",
       "      <td>0.01</td>\n",
       "      <td>7/2/21</td>\n",
       "      <td>7</td>\n",
       "    </tr>\n",
       "  </tbody>\n",
       "</table>\n",
       "<p>177 rows × 7 columns</p>\n",
       "</div>"
      ],
      "text/plain": [
       "             CSN Device Location Symptom  Duration      Date Month\n",
       "0    C-221-82070      C        D      DI      0.03   11/4/21    11\n",
       "7    C-221-88991      T        U      DI      0.13    4/2/21     4\n",
       "18   C-221-90833      T        U      DI      0.02   9/29/21     9\n",
       "24   C-221-34351      O        D      DI      0.01   8/21/21     8\n",
       "27   C-221-92726      T        U      DI      0.08    6/4/21     6\n",
       "..           ...    ...      ...     ...       ...       ...   ...\n",
       "966  C-221-50812      T        J      DI      4.00   4/15/21     4\n",
       "967  C-221-74912      F        U      DI      0.22   3/24/21     3\n",
       "969  C-221-46422      C        U      DI      0.02  11/15/21    11\n",
       "975  C-221-46840      C        U      DI      0.10    7/6/21     7\n",
       "977  C-221-99956      C        D      DI      0.01    7/2/21     7\n",
       "\n",
       "[177 rows x 7 columns]"
      ]
     },
     "execution_count": 612,
     "metadata": {},
     "output_type": "execute_result"
    }
   ],
   "source": [
    "Complain_symptom_DI"
   ]
  },
  {
   "cell_type": "code",
   "execution_count": 613,
   "id": "d84577c8",
   "metadata": {},
   "outputs": [
    {
     "data": {
      "text/html": [
       "<div>\n",
       "<style scoped>\n",
       "    .dataframe tbody tr th:only-of-type {\n",
       "        vertical-align: middle;\n",
       "    }\n",
       "\n",
       "    .dataframe tbody tr th {\n",
       "        vertical-align: top;\n",
       "    }\n",
       "\n",
       "    .dataframe thead th {\n",
       "        text-align: right;\n",
       "    }\n",
       "</style>\n",
       "<table border=\"1\" class=\"dataframe\">\n",
       "  <thead>\n",
       "    <tr style=\"text-align: right;\">\n",
       "      <th></th>\n",
       "      <th>Duration</th>\n",
       "    </tr>\n",
       "  </thead>\n",
       "  <tbody>\n",
       "    <tr>\n",
       "      <th>count</th>\n",
       "      <td>172.000000</td>\n",
       "    </tr>\n",
       "    <tr>\n",
       "      <th>mean</th>\n",
       "      <td>25.790581</td>\n",
       "    </tr>\n",
       "    <tr>\n",
       "      <th>std</th>\n",
       "      <td>87.322519</td>\n",
       "    </tr>\n",
       "    <tr>\n",
       "      <th>min</th>\n",
       "      <td>-0.020000</td>\n",
       "    </tr>\n",
       "    <tr>\n",
       "      <th>25%</th>\n",
       "      <td>0.010000</td>\n",
       "    </tr>\n",
       "    <tr>\n",
       "      <th>50%</th>\n",
       "      <td>0.030000</td>\n",
       "    </tr>\n",
       "    <tr>\n",
       "      <th>75%</th>\n",
       "      <td>0.100000</td>\n",
       "    </tr>\n",
       "    <tr>\n",
       "      <th>max</th>\n",
       "      <td>401.730000</td>\n",
       "    </tr>\n",
       "  </tbody>\n",
       "</table>\n",
       "</div>"
      ],
      "text/plain": [
       "         Duration\n",
       "count  172.000000\n",
       "mean    25.790581\n",
       "std     87.322519\n",
       "min     -0.020000\n",
       "25%      0.010000\n",
       "50%      0.030000\n",
       "75%      0.100000\n",
       "max    401.730000"
      ]
     },
     "execution_count": 613,
     "metadata": {},
     "output_type": "execute_result"
    }
   ],
   "source": [
    "Complain_symptom_DI.describe()"
   ]
  },
  {
   "cell_type": "markdown",
   "id": "99a60718",
   "metadata": {},
   "source": [
    "### The following box plot represents the min-max and median duration for each symptom. This will depict the overall usage duration for each device combined with each symptom. We can also notice the outliers in these boxplots (represented by small black dots outside the boxplot)."
   ]
  },
  {
   "cell_type": "code",
   "execution_count": 672,
   "id": "a5fc42d4",
   "metadata": {},
   "outputs": [
    {
     "data": {
      "image/png": "[encoded data removed]",
      "text/plain": [
       "<Figure size 1440x576 with 1 Axes>"
      ]
     },
     "metadata": {},
     "output_type": "display_data"
    }
   ],
   "source": [
    "plt.figure(figsize=(20, 8))\n",
    "boxplt = sns.boxplot(x=\"Symptom\", y=\"Duration\",data=complaint)\n",
    "plt.ylim(-1, 20)\n",
    "sns.set_style(\"whitegrid\")\n",
    "# to add annotation of median to the box plot\n",
    "medians = complaint.groupby(['Symptom'])['Duration'].median()\n",
    "vertical_offset = complaint['Duration'].median() * 0.05 # offset from median for display\n",
    "\n",
    "for xtick in boxplt.get_xticks():\n",
    "    boxplt.text(xtick,medians[xtick] + vertical_offset,medians[xtick], \n",
    "            horizontalalignment='center',size='small',color='w',weight='bold')\n"
   ]
  },
  {
   "cell_type": "markdown",
   "id": "c608f75d",
   "metadata": {},
   "source": [
    "### We can also represent the box plot for each device usage duration for every symptom."
   ]
  },
  {
   "cell_type": "code",
   "execution_count": 676,
   "id": "8a7782c2",
   "metadata": {},
   "outputs": [
    {
     "data": {
      "image/png": "[encoded data removed]",
      "text/plain": [
       "<Figure size 1440x576 with 1 Axes>"
      ]
     },
     "metadata": {},
     "output_type": "display_data"
    }
   ],
   "source": [
    "# adding hue to this box plot in oder to get boxplot for each city.\n",
    "plt.figure(figsize=(20, 8))\n",
    "boxplt = sns.boxplot(x=\"Symptom\", y=\"Duration\",hue='Device',data=complaint)\n",
    "plt.ylim(-5, 20)\n",
    "sns.set_style(\"whitegrid\")\n",
    "# to add annotation of median to the box plot\n",
    "medians = complaint.groupby(['Symptom'])['Duration'].median()\n",
    "vertical_offset = complaint['Duration'].median() * 0.05 # offset from median for display\n",
    "\n",
    "for xtick in boxplt.get_xticks():\n",
    "    boxplt.text(xtick,medians[xtick] + vertical_offset,medians[xtick], \n",
    "            horizontalalignment='center',size='small',color='w',weight='bold')\n",
    "\n"
   ]
  },
  {
   "cell_type": "markdown",
   "id": "41a21896",
   "metadata": {},
   "source": [
    "### In the above graph Box plot for the duration is hard to identify. So, I have to make a seprate box plot for DI symptoms which with a range of duration on Y-axsis to (-0.5 to 0.5) "
   ]
  },
  {
   "cell_type": "code",
   "execution_count": 681,
   "id": "3ed9e954",
   "metadata": {},
   "outputs": [
    {
     "data": {
      "text/plain": [
       "(-0.5, 0.5)"
      ]
     },
     "execution_count": 681,
     "metadata": {},
     "output_type": "execute_result"
    },
    {
     "data": {
      "image/png": "[encoded data removed]",
      "text/plain": [
       "<Figure size 720x576 with 1 Axes>"
      ]
     },
     "metadata": {},
     "output_type": "display_data"
    }
   ],
   "source": [
    "# changing the ylim of this graph\n",
    "plt.figure(figsize=(10, 8))\n",
    "sns.boxplot(x=\"Symptom\", y=\"Duration\",data=Complain_symptom_DI)\n",
    "plt.ylim(-0.5, 0.5)"
   ]
  },
  {
   "cell_type": "code",
   "execution_count": null,
   "id": "27d7cc21",
   "metadata": {},
   "outputs": [],
   "source": []
  }
 ],
 "metadata": {
  "kernelspec": {
   "display_name": "Python 3",
   "language": "python",
   "name": "python3"
  },
  "language_info": {
   "codemirror_mode": {
    "name": "ipython",
    "version": 3
   },
   "file_extension": ".py",
   "mimetype": "text/x-python",
   "name": "python",
   "nbconvert_exporter": "python",
   "pygments_lexer": "ipython3",
   "version": "3.8.8"
  }
 },
 "nbformat": 4,
 "nbformat_minor": 5
}
